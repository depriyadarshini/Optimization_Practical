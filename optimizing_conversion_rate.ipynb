{
 "cells": [
  {
   "cell_type": "code",
   "execution_count": 1,
   "metadata": {},
   "outputs": [],
   "source": [
    "#  https://www.kaggle.com/loveall/clicks-conversion-tracking\n",
    "from pulp import *\n",
    "import pandas as pd\n",
    "import numpy as np\n"
   ]
  },
  {
   "cell_type": "code",
   "execution_count": 2,
   "metadata": {},
   "outputs": [],
   "source": [
    "# Read the first few rows dataset in a Pandas DataFrame\n",
    "# Read only the nutrition info not the bounds/constraints\n",
    "df = pd.read_csv(\"C:/Users/depri/Desktop/optimisation4th quarter/Project/sales-conversion-optimization/KAG_conversion_data.csv\")\n",
    "\n",
    "\n",
    "# Creating the data frame consiting of only xyz_campaign_id as 916 and 1178\n",
    "df.loc[(df.xyz_campaign_id==916) | (df.xyz_campaign_id==1178)]\n",
    "\n",
    "# Cleaning the data\n",
    "df=df.replace([np.inf, -np.inf], np.nan)\n"
   ]
  },
  {
   "cell_type": "code",
   "execution_count": 3,
   "metadata": {},
   "outputs": [],
   "source": [
    "# Creating the additional KPI's\n",
    "df[\"Click_through_rate\"]=(df.Clicks/df.Impressions)*100\n",
    "df[\"Cost_Per_click\"]=(df.Spent/df.Clicks)\n",
    "df[\"Return_on_advertising_spend\"] = round(df.Total_Conversion / df.Spent)\n",
    "df[\"Total_Con\"]= round((df.Total_Conversion+df.Approved_Conversion),2)\n",
    "df[\"Cost_Per_Conversion\"]=round((df.Spent/df[\"Total_Con\"]),2)\n",
    "df[\"Cost_Per_Mile\"]=round((df.Spent / df.Impressions) * 1000,2)\n",
    "df.head()\n",
    "# Cleaning the data\n",
    "df=df.replace([np.inf, -np.inf], np.nan)\n",
    "df.dropna(inplace=True)\n"
   ]
  },
  {
   "cell_type": "markdown",
   "metadata": {},
   "source": [
    "Objective function is to minimize cost subject to contraints like total conversion(number of people enquired about the product), \n",
    "conversion costs(costs per conversion) and converted(approved conversions)."
   ]
  },
  {
   "cell_type": "code",
   "execution_count": 4,
   "metadata": {},
   "outputs": [],
   "source": [
    "\n",
    "# First, we create a LP problem with the method LpProblemin PuLP.\n",
    "prob=LpProblem(\"Optimzation Problem\", LpMinimize)\n",
    "\n",
    "# Then, we need to create bunches of Python dictionary objects with the information we have from the table. \n",
    "# The code is shown below,\n",
    "\n",
    "# Create a list of advertisement id\n",
    "advertisement_id=list(df.ad_id)\n",
    "#print(advertisement_id)\n",
    "\n",
    "# Create a dictionary of cost for all advertisement ids\n",
    "costs=dict(zip(advertisement_id, df.Spent))\n",
    "#print(costs)\n",
    "\n",
    "# Create a dictionary of total conversion for all advertisement ids\n",
    "total_conversions = dict(zip(advertisement_id,df.Total_Con))\n",
    "\n",
    "# Create a dictionary of cost per conversion for all advertisement ids\n",
    "conversion_costs = dict(zip(advertisement_id,df.Cost_Per_Conversion))\n",
    "\n",
    "# Create a dictionary return on adverstising spend for all advertisement ids\n",
    "Returns = dict(zip(advertisement_id,df.Return_on_advertising_spend))\n",
    "\n",
    "# Create a dictionary return on adverstising spend for all advertisement ids\n",
    "Converted = dict(zip(advertisement_id,df.Approved_Conversion))\n"
   ]
  },
  {
   "cell_type": "code",
   "execution_count": 5,
   "metadata": {},
   "outputs": [],
   "source": [
    "# we create a dictionary of advertisement id variables with lower bound =0 and category \n",
    "# continuous i.e. the optimization solution can take any real-numbered value greater than zero.\n",
    "advertising = LpVariable.dicts(\"Advertisement\",advertisement_id,lowBound=0,cat='Continuous')\n",
    "# the main objective function\n",
    "prob+=lpSum([costs[i]*advertising[i] for i in advertisement_id])  # Total cost in which a_id company should invest more."
   ]
  },
  {
   "cell_type": "code",
   "execution_count": 6,
   "metadata": {
    "scrolled": true
   },
   "outputs": [],
   "source": [
    "# total conversion\n",
    "prob += lpSum([total_conversions[f] * advertising[f] for f in advertisement_id]) >= 1, \"Total_Conversion minimum\"\n",
    "prob += lpSum([total_conversions[f] * advertising[f] for f in advertisement_id]) <= 100, \"TotalConversion maximum\"\n",
    "#Conversion costs\n",
    "prob += lpSum([conversion_costs[f] * advertising[f] for f in advertisement_id]) >=2, \"Conversion Costs minimum\"\n",
    "prob += lpSum([conversion_costs[f] * advertising[f] for f in advertisement_id]) <=4, \"Conversion Costs maximum\"\n",
    "# Converted\n",
    "prob+= lpSum([Converted[f] * advertising[f] for f in advertisement_id]) >=1, \"Converted minimum\"\n",
    "prob+= lpSum([Converted[f] * advertising[f] for f in advertisement_id]) <=100, \"Converted maximum\""
   ]
  },
  {
   "cell_type": "code",
   "execution_count": 7,
   "metadata": {},
   "outputs": [
    {
     "name": "stdout",
     "output_type": "stream",
     "text": [
      "Status: Optimal\n"
     ]
    }
   ],
   "source": [
    "prob.solve()\n",
    "print(\"Status:\", LpStatus[prob.status])"
   ]
  },
  {
   "cell_type": "code",
   "execution_count": 8,
   "metadata": {},
   "outputs": [
    {
     "name": "stdout",
     "output_type": "stream",
     "text": [
      "Advertisement_777105 = 1.0\n",
      "Advertisement_781354 = 3.6037736\n"
     ]
    }
   ],
   "source": [
    "for v in prob.variables():\n",
    "    if v.varValue>0:\n",
    "        print(v.name, \"=\", v.varValue)\n",
    "        \n"
   ]
  },
  {
   "cell_type": "code",
   "execution_count": 12,
   "metadata": {},
   "outputs": [
    {
     "name": "stdout",
     "output_type": "stream",
     "text": [
      "The total cost per add that xyz company should spend given the contraints to acquire 1 customer: 2.09\n"
     ]
    }
   ],
   "source": [
    "print(\"The total cost per add that xyz company should spend given the contraints to acquire 1 customer: {}\".format(round(value(prob.objective),2)))"
   ]
  },
  {
   "cell_type": "code",
   "execution_count": 20,
   "metadata": {},
   "outputs": [
    {
     "data": {
      "text/html": [
       "<div>\n",
       "<style scoped>\n",
       "    .dataframe tbody tr th:only-of-type {\n",
       "        vertical-align: middle;\n",
       "    }\n",
       "\n",
       "    .dataframe tbody tr th {\n",
       "        vertical-align: top;\n",
       "    }\n",
       "\n",
       "    .dataframe thead th {\n",
       "        text-align: right;\n",
       "    }\n",
       "</style>\n",
       "<table border=\"1\" class=\"dataframe\">\n",
       "  <thead>\n",
       "    <tr style=\"text-align: right;\">\n",
       "      <th></th>\n",
       "      <th>ad_id</th>\n",
       "      <th>Total_Con</th>\n",
       "      <th>Cost_Per_Conversion</th>\n",
       "      <th>Approved_Conversion</th>\n",
       "    </tr>\n",
       "  </thead>\n",
       "  <tbody>\n",
       "    <tr>\n",
       "      <th>267</th>\n",
       "      <td>777105</td>\n",
       "      <td>2</td>\n",
       "      <td>0.09</td>\n",
       "      <td>1</td>\n",
       "    </tr>\n",
       "    <tr>\n",
       "      <th>388</th>\n",
       "      <td>781354</td>\n",
       "      <td>1</td>\n",
       "      <td>0.53</td>\n",
       "      <td>0</td>\n",
       "    </tr>\n",
       "  </tbody>\n",
       "</table>\n",
       "</div>"
      ],
      "text/plain": [
       "      ad_id  Total_Con  Cost_Per_Conversion  Approved_Conversion\n",
       "267  777105          2                 0.09                    1\n",
       "388  781354          1                 0.53                    0"
      ]
     },
     "execution_count": 20,
     "metadata": {},
     "output_type": "execute_result"
    }
   ],
   "source": [
    "df[(df.ad_id==777105)|(df.ad_id==781354)][[\"ad_id\",\"Total_Con\",\"Cost_Per_Conversion\",\n",
    "\"Approved_Conversion\"]]"
   ]
  },
  {
   "cell_type": "code",
   "execution_count": 11,
   "metadata": {},
   "outputs": [
    {
     "data": {
      "text/html": [
       "<div>\n",
       "<style scoped>\n",
       "    .dataframe tbody tr th:only-of-type {\n",
       "        vertical-align: middle;\n",
       "    }\n",
       "\n",
       "    .dataframe tbody tr th {\n",
       "        vertical-align: top;\n",
       "    }\n",
       "\n",
       "    .dataframe thead th {\n",
       "        text-align: right;\n",
       "    }\n",
       "</style>\n",
       "<table border=\"1\" class=\"dataframe\">\n",
       "  <thead>\n",
       "    <tr style=\"text-align: right;\">\n",
       "      <th></th>\n",
       "      <th>ad_id</th>\n",
       "      <th>xyz_campaign_id</th>\n",
       "      <th>fb_campaign_id</th>\n",
       "      <th>age</th>\n",
       "      <th>gender</th>\n",
       "      <th>interest</th>\n",
       "      <th>Impressions</th>\n",
       "      <th>Clicks</th>\n",
       "      <th>Spent</th>\n",
       "      <th>Total_Conversion</th>\n",
       "      <th>Approved_Conversion</th>\n",
       "      <th>Click_through_rate</th>\n",
       "      <th>Cost_Per_click</th>\n",
       "      <th>Return_on_advertising_spend</th>\n",
       "      <th>Total_Con</th>\n",
       "      <th>Cost_Per_Conversion</th>\n",
       "      <th>Cost_Per_Mile</th>\n",
       "    </tr>\n",
       "  </thead>\n",
       "  <tbody>\n",
       "    <tr>\n",
       "      <th>388</th>\n",
       "      <td>781354</td>\n",
       "      <td>936</td>\n",
       "      <td>116371</td>\n",
       "      <td>35-39</td>\n",
       "      <td>F</td>\n",
       "      <td>10</td>\n",
       "      <td>6424</td>\n",
       "      <td>1</td>\n",
       "      <td>0.53</td>\n",
       "      <td>1</td>\n",
       "      <td>0</td>\n",
       "      <td>0.015567</td>\n",
       "      <td>0.53</td>\n",
       "      <td>2.0</td>\n",
       "      <td>1</td>\n",
       "      <td>0.53</td>\n",
       "      <td>0.08</td>\n",
       "    </tr>\n",
       "  </tbody>\n",
       "</table>\n",
       "</div>"
      ],
      "text/plain": [
       "      ad_id  xyz_campaign_id  fb_campaign_id    age gender  interest  \\\n",
       "388  781354              936          116371  35-39      F        10   \n",
       "\n",
       "     Impressions  Clicks  Spent  Total_Conversion  Approved_Conversion  \\\n",
       "388         6424       1   0.53                 1                    0   \n",
       "\n",
       "     Click_through_rate  Cost_Per_click  Return_on_advertising_spend  \\\n",
       "388            0.015567            0.53                          2.0   \n",
       "\n",
       "     Total_Con  Cost_Per_Conversion  Cost_Per_Mile  \n",
       "388          1                 0.53           0.08  "
      ]
     },
     "execution_count": 11,
     "metadata": {},
     "output_type": "execute_result"
    }
   ],
   "source": [
    "df[df.ad_id==781354]"
   ]
  },
  {
   "cell_type": "code",
   "execution_count": null,
   "metadata": {},
   "outputs": [],
   "source": [
    "# $2 to acquire one customer."
   ]
  },
  {
   "cell_type": "code",
   "execution_count": 19,
   "metadata": {},
   "outputs": [
    {
     "data": {
      "text/html": [
       "<div>\n",
       "<style scoped>\n",
       "    .dataframe tbody tr th:only-of-type {\n",
       "        vertical-align: middle;\n",
       "    }\n",
       "\n",
       "    .dataframe tbody tr th {\n",
       "        vertical-align: top;\n",
       "    }\n",
       "\n",
       "    .dataframe thead th {\n",
       "        text-align: right;\n",
       "    }\n",
       "</style>\n",
       "<table border=\"1\" class=\"dataframe\">\n",
       "  <thead>\n",
       "    <tr style=\"text-align: right;\">\n",
       "      <th></th>\n",
       "      <th>ad_id</th>\n",
       "      <th>xyz_campaign_id</th>\n",
       "      <th>fb_campaign_id</th>\n",
       "      <th>age</th>\n",
       "      <th>gender</th>\n",
       "      <th>interest</th>\n",
       "      <th>Impressions</th>\n",
       "      <th>Clicks</th>\n",
       "      <th>Spent</th>\n",
       "      <th>Total_Conversion</th>\n",
       "      <th>Approved_Conversion</th>\n",
       "      <th>Click_through_rate</th>\n",
       "      <th>Cost_Per_click</th>\n",
       "      <th>Return_on_advertising_spend</th>\n",
       "      <th>Total_Con</th>\n",
       "      <th>Cost_Per_Conversion</th>\n",
       "      <th>Cost_Per_Mile</th>\n",
       "    </tr>\n",
       "  </thead>\n",
       "  <tbody>\n",
       "    <tr>\n",
       "      <th>267</th>\n",
       "      <td>777105</td>\n",
       "      <td>936</td>\n",
       "      <td>115615</td>\n",
       "      <td>45-49</td>\n",
       "      <td>M</td>\n",
       "      <td>63</td>\n",
       "      <td>4333</td>\n",
       "      <td>1</td>\n",
       "      <td>0.18</td>\n",
       "      <td>1</td>\n",
       "      <td>1</td>\n",
       "      <td>0.023079</td>\n",
       "      <td>0.18</td>\n",
       "      <td>6.0</td>\n",
       "      <td>2</td>\n",
       "      <td>0.09</td>\n",
       "      <td>0.04</td>\n",
       "    </tr>\n",
       "  </tbody>\n",
       "</table>\n",
       "</div>"
      ],
      "text/plain": [
       "      ad_id  xyz_campaign_id  fb_campaign_id    age gender  interest  \\\n",
       "267  777105              936          115615  45-49      M        63   \n",
       "\n",
       "     Impressions  Clicks  Spent  Total_Conversion  Approved_Conversion  \\\n",
       "267         4333       1   0.18                 1                    1   \n",
       "\n",
       "     Click_through_rate  Cost_Per_click  Return_on_advertising_spend  \\\n",
       "267            0.023079            0.18                          6.0   \n",
       "\n",
       "     Total_Con  Cost_Per_Conversion  Cost_Per_Mile  \n",
       "267          2                 0.09           0.04  "
      ]
     },
     "execution_count": 19,
     "metadata": {},
     "output_type": "execute_result"
    }
   ],
   "source": [
    "df[df.ad_id==777105]"
   ]
  },
  {
   "cell_type": "code",
   "execution_count": null,
   "metadata": {},
   "outputs": [],
   "source": []
  }
 ],
 "metadata": {
  "kernelspec": {
   "display_name": "Python 3",
   "language": "python",
   "name": "python3"
  },
  "language_info": {
   "codemirror_mode": {
    "name": "ipython",
    "version": 3
   },
   "file_extension": ".py",
   "mimetype": "text/x-python",
   "name": "python",
   "nbconvert_exporter": "python",
   "pygments_lexer": "ipython3",
   "version": "3.7.3"
  }
 },
 "nbformat": 4,
 "nbformat_minor": 2
}
